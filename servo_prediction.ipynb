{
  "nbformat": 4,
  "nbformat_minor": 0,
  "metadata": {
    "colab": {
      "provenance": [],
      "authorship_tag": "ABX9TyMEHwuHD9rTwfVBlbi2Lxla"
    },
    "kernelspec": {
      "name": "python3",
      "display_name": "Python 3"
    },
    "language_info": {
      "name": "python"
    }
  },
  "cells": [
    {
      "cell_type": "code",
      "execution_count": 60,
      "metadata": {
        "collapsed": true,
        "id": "4PEyGjJ2iDco"
      },
      "outputs": [],
      "source": [
        "import pandas as pd\n",
        "import matplotlib.pyplot as plt\n",
        "from sklearn.preprocessing import LabelEncoder,StandardScaler\n",
        "from sklearn.model_selection import train_test_split\n",
        "df=pd.read_csv(\"https://github.com/YBI-Foundation/Dataset/raw/main/Servo%20Mechanism.csv\");"
      ]
    },
    {
      "cell_type": "code",
      "source": [
        "df[\"Motor\"]=LabelEncoder().fit_transform(df[\"Motor\"])\n",
        "df[\"Screw\"]=LabelEncoder().fit_transform(df[\"Screw\"])\n",
        "y=df[\"Class\"]\n",
        "x=df[[\"Motor\",\"Screw\",\"Pgain\",\"Vgain\"]]"
      ],
      "metadata": {
        "collapsed": true,
        "id": "JVJrsWaOthgf"
      },
      "execution_count": 61,
      "outputs": []
    },
    {
      "cell_type": "code",
      "source": [
        "x_train,x_test,y_train,y_test=train_test_split(x,y,test_size=0.3,random_state=2529)\n",
        "scaler=StandardScaler()\n",
        "x_train=scaler.fit_transform(x_train)\n",
        "x_test=scaler.transform(x_test)"
      ],
      "metadata": {
        "id": "bp5FdX_X4sKy"
      },
      "execution_count": 62,
      "outputs": []
    },
    {
      "cell_type": "code",
      "source": [
        "from sklearn.ensemble import RandomForestRegressor\n",
        "model=RandomForestRegressor()\n",
        "model.fit(x_train,y_train)\n",
        "y_pred=model.predict(x_test)"
      ],
      "metadata": {
        "id": "qdntdvVb9EWp"
      },
      "execution_count": 63,
      "outputs": []
    },
    {
      "cell_type": "code",
      "source": [
        "from sklearn.metrics import mean_absolute_percentage_error\n",
        "print(mean_absolute_percentage_error(y_test,y_pred))"
      ],
      "metadata": {
        "colab": {
          "base_uri": "https://localhost:8080/"
        },
        "id": "RMaCUSlB5p3-",
        "outputId": "c6e83108-d820-499e-e659-0c505a31d13e"
      },
      "execution_count": 64,
      "outputs": [
        {
          "output_type": "stream",
          "name": "stdout",
          "text": [
            "0.1838516397105286\n"
          ]
        }
      ]
    }
  ]
}